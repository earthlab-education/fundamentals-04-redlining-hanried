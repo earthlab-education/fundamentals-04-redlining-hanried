{
 "cells": [
  {
   "cell_type": "markdown",
   "metadata": {},
   "source": [
    "# Loops"
   ]
  },
  {
   "cell_type": "code",
   "execution_count": 2,
   "metadata": {},
   "outputs": [
    {
     "name": "stdout",
     "output_type": "stream",
     "text": [
      "[1, 2, 3, 4, 5]\n"
     ]
    }
   ],
   "source": [
    "# Create list of numbers\n",
    "list_of_values = [1, 2, 3, 4, 5]\n",
    "\n",
    "print(list_of_values)"
   ]
  },
  {
   "cell_type": "code",
   "execution_count": 5,
   "metadata": {},
   "outputs": [
    {
     "name": "stdout",
     "output_type": "stream",
     "text": [
      "1\n",
      "2\n",
      "3\n",
      "4\n",
      "5\n"
     ]
    }
   ],
   "source": [
    "# Cycle through each number and print separately\n",
    "# loops apply one action to every member of a list\n",
    "# the \"avalue\" can be chosen by us, can often just be \"i\"\n",
    "# the loop now knows to use \"avalue\" to mean each value in the list\n",
    "# if you add the word \"break\" after print(avalue), it will stop after it runs once\n",
    "\n",
    "for avalue in list_of_values:\n",
    "    print(avalue)"
   ]
  },
  {
   "cell_type": "code",
   "execution_count": 6,
   "metadata": {},
   "outputs": [
    {
     "name": "stdout",
     "output_type": "stream",
     "text": [
      "the current value is: 1\n",
      "the current value is: 2\n",
      "the current value is: 3\n",
      "the current value is: 4\n",
      "the current value is: 5\n"
     ]
    }
   ],
   "source": [
    "for avalue in list_of_values:\n",
    "    print(\"the current value is:\", avalue)"
   ]
  },
  {
   "cell_type": "code",
   "execution_count": 7,
   "metadata": {},
   "outputs": [
    {
     "name": "stdout",
     "output_type": "stream",
     "text": [
      "22\n",
      "15\n",
      "146\n",
      "57\n"
     ]
    }
   ],
   "source": [
    "#create new list\n",
    "num_list = [12, 5, 136, 47]\n",
    "\n",
    "#for reach item in list, add 10 and print new value\n",
    "for i in num_list:\n",
    "    n = i + 10\n",
    "    print(n)\n",
    "\n",
    "#without the print, the for loop still runs, the output just doesn't go anywhere\n",
    "#in our variable list in the terminal below, i will just be whichever the most recent value of i that went through the loop is\n"
   ]
  },
  {
   "cell_type": "code",
   "execution_count": 9,
   "metadata": {},
   "outputs": [
    {
     "data": {
      "text/plain": [
       "[22, 15, 146, 57]"
      ]
     },
     "execution_count": 9,
     "metadata": {},
     "output_type": "execute_result"
    }
   ],
   "source": [
    "#how to collect output values in a table or list\n",
    "\n",
    "#create empty list to store output\n",
    "new_list = []\n",
    "\n",
    "#create loop and append (add) output to the list\n",
    "for i in num_list:\n",
    "    new_list.append(i + 10)\n",
    "\n",
    "new_list\n",
    "\n",
    "# ctrl k c comments a whole chunk of code.\n",
    "# ctrl k u uncomments it"
   ]
  },
  {
   "cell_type": "markdown",
   "metadata": {},
   "source": [
    "# doing a for loop on a data array"
   ]
  },
  {
   "cell_type": "code",
   "execution_count": 10,
   "metadata": {},
   "outputs": [],
   "source": [
    "import numpy as np"
   ]
  },
  {
   "cell_type": "code",
   "execution_count": 14,
   "metadata": {},
   "outputs": [
    {
     "data": {
      "text/plain": [
       "array([[1, 2, 3],\n",
       "       [4, 5, 6],\n",
       "       [7, 8, 9]])"
      ]
     },
     "execution_count": 14,
     "metadata": {},
     "output_type": "execute_result"
    }
   ],
   "source": [
    "data = np.array([[1, 2, 3], [4, 5, 6], [7, 8, 9]])\n",
    "\n",
    "data"
   ]
  },
  {
   "cell_type": "code",
   "execution_count": 16,
   "metadata": {},
   "outputs": [
    {
     "data": {
      "text/plain": [
       "array([1, 2, 3])"
      ]
     },
     "execution_count": 16,
     "metadata": {},
     "output_type": "execute_result"
    }
   ],
   "source": [
    "# how to pull out one row of the data\n",
    "\n",
    "data[0]"
   ]
  },
  {
   "cell_type": "code",
   "execution_count": 17,
   "metadata": {},
   "outputs": [
    {
     "name": "stdout",
     "output_type": "stream",
     "text": [
      "11\n",
      "12\n",
      "13\n"
     ]
    }
   ],
   "source": [
    "#for just the 1st row of the array, add 10\n",
    "for i in data[0]:\n",
    "    n = i + 10\n",
    "    print(n)"
   ]
  },
  {
   "cell_type": "markdown",
   "metadata": {},
   "source": [
    "# Functions"
   ]
  },
  {
   "cell_type": "code",
   "execution_count": null,
   "metadata": {},
   "outputs": [],
   "source": [
    "# functions do things once. loops go through all data. functions are often included inside of loops to do one thign to all parts of data\n",
    "# function structure\n",
    "# parameter is the inputs into the function\n",
    "# return means we're done making the function and this is what we want as the output\n",
    "# variables defined inside the function only exist in the funciton, they wouldn't show up in the terminal below\n",
    "\n",
    "def func_name(parameter):\n",
    "    some code here\n",
    "    return output"
   ]
  },
  {
   "cell_type": "code",
   "execution_count": 18,
   "metadata": {},
   "outputs": [
    {
     "data": {
      "text/plain": [
       "1.1811023622047245"
      ]
     },
     "execution_count": 18,
     "metadata": {},
     "output_type": "execute_result"
    }
   ],
   "source": [
    "#convert mm to in\n",
    "def mm_to_in(mm):\n",
    "    inches = mm / 25.4\n",
    "    return inches\n",
    "\n",
    "#Test function\n",
    "#don't have to have the mm = in the argument below, could just put 30\n",
    "\n",
    "mm_to_in(mm = 30)"
   ]
  },
  {
   "cell_type": "code",
   "execution_count": 19,
   "metadata": {},
   "outputs": [
    {
     "name": "stdout",
     "output_type": "stream",
     "text": [
      "Help on function mm_to_in in module __main__:\n",
      "\n",
      "mm_to_in(mm)\n",
      "    Convert input from millimeters to inches.\n",
      "    \n",
      "    Parameters\n",
      "    -----------\n",
      "    mm : int or float\n",
      "        numeric value with units in millimeters.\n",
      "        \n",
      "    Returns\n",
      "    -------\n",
      "    output : int or float\n",
      "        numeric value with units in inches\n",
      "\n"
     ]
    }
   ],
   "source": [
    "# Add docstring to explain what function does\n",
    "def mm_to_in(mm):\n",
    "    \"\"\"Convert input from millimeters to inches.\n",
    "    \n",
    "    Parameters\n",
    "    -----------\n",
    "    mm : int or float\n",
    "        numeric value with units in millimeters.\n",
    "        \n",
    "    Returns\n",
    "    -------\n",
    "    output : int or float\n",
    "        numeric value with units in inches\n",
    "    \"\"\"\n",
    "    inches = mm / 25.4\n",
    "    return inches\n",
    "\n",
    "#show help docstring\n",
    "help(mm_to_in)"
   ]
  },
  {
   "cell_type": "code",
   "execution_count": 21,
   "metadata": {},
   "outputs": [
    {
     "data": {
      "text/plain": [
       "array([[0.03937008, 0.07874016, 0.11811024],\n",
       "       [0.15748031, 0.19685039, 0.23622047],\n",
       "       [0.27559055, 0.31496063, 0.35433071]])"
      ]
     },
     "execution_count": 21,
     "metadata": {},
     "output_type": "execute_result"
    }
   ],
   "source": [
    "#Apply function to a numpy array\n",
    "data\n",
    "\n",
    "mm_to_in(mm = data)\n",
    "#with the above code, the output isn't saved anywhere"
   ]
  },
  {
   "cell_type": "code",
   "execution_count": 23,
   "metadata": {},
   "outputs": [
    {
     "data": {
      "text/plain": [
       "array([[0.03937008, 0.07874016, 0.11811024],\n",
       "       [0.15748031, 0.19685039, 0.23622047],\n",
       "       [0.27559055, 0.31496063, 0.35433071]])"
      ]
     },
     "execution_count": 23,
     "metadata": {},
     "output_type": "execute_result"
    }
   ],
   "source": [
    "#to save the output of the function\n",
    "data_in = mm_to_in(mm = data)\n",
    "\n",
    "data_in"
   ]
  },
  {
   "cell_type": "code",
   "execution_count": 24,
   "metadata": {},
   "outputs": [],
   "source": [
    "#can we have more than 1 input parameter for function\n",
    "def multiply_values(x,y):\n",
    "    z = x * y\n",
    "    return z"
   ]
  },
  {
   "cell_type": "code",
   "execution_count": 26,
   "metadata": {},
   "outputs": [
    {
     "data": {
      "text/plain": [
       "-6"
      ]
     },
     "execution_count": 26,
     "metadata": {},
     "output_type": "execute_result"
    }
   ],
   "source": [
    "multiply_values(2,3)"
   ]
  },
  {
   "cell_type": "code",
   "execution_count": 27,
   "metadata": {},
   "outputs": [
    {
     "data": {
      "text/plain": [
       "49.99999999999999"
      ]
     },
     "execution_count": 27,
     "metadata": {},
     "output_type": "execute_result"
    }
   ],
   "source": [
    "def pyramid_volume(basearea, height):\n",
    "    volume = (1/3) * basearea * height\n",
    "    return volume\n",
    "\n",
    "pyramid_volume(10,15)"
   ]
  },
  {
   "cell_type": "markdown",
   "metadata": {},
   "source": [
    "# Combine loops and functions"
   ]
  },
  {
   "cell_type": "code",
   "execution_count": 30,
   "metadata": {},
   "outputs": [
    {
     "data": {
      "text/plain": [
       "[1, 4, 9, 16, 25]"
      ]
     },
     "execution_count": 30,
     "metadata": {},
     "output_type": "execute_result"
    }
   ],
   "source": [
    "# first define function\n",
    "def calculate_square(number):\n",
    "    \"\"\"docstring help here\"\"\"\n",
    "    return number ** 2\n",
    "\n",
    "# the above function is the same as\n",
    "#def calculate_square(number):\n",
    "#    n = number ** 2\n",
    "#    return n\n",
    "\n",
    "#Create list of numbers as trial dataset\n",
    "numbers_list = [1, 2, 3, 4, 5]\n",
    "\n",
    "#Create empty list to collect output\n",
    "squared_numbers_list = []\n",
    "\n",
    "for i in numbers_list:\n",
    "    square_num = calculate_square(i)\n",
    "    squared_numbers_list.append(square_num)\n",
    "\n",
    "#squre_num is an intermediate variable, not actually saved and it changes with each loop iteration\n",
    "\n",
    "squared_numbers_list"
   ]
  }
 ],
 "metadata": {
  "kernelspec": {
   "display_name": "earth-analytics-python",
   "language": "python",
   "name": "python3"
  },
  "language_info": {
   "codemirror_mode": {
    "name": "ipython",
    "version": 3
   },
   "file_extension": ".py",
   "mimetype": "text/x-python",
   "name": "python",
   "nbconvert_exporter": "python",
   "pygments_lexer": "ipython3",
   "version": "3.11.10"
  }
 },
 "nbformat": 4,
 "nbformat_minor": 2
}
