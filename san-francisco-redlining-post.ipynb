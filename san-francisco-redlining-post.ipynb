{
 "cells": [
  {
   "cell_type": "markdown",
   "metadata": {},
   "source": [
    "# **Redlining and Normalized Difference Vegetation Index (NDVI) in San Francisco, California**"
   ]
  },
  {
   "cell_type": "markdown",
   "metadata": {},
   "source": [
    "<figure>\n",
    "<img\n",
    "src=\"https://s3.amazonaws.com/holc/tiles/CA/SanFrancisco/1937/holc-scan.jpg\"\n",
    "alt=\"Redlining map of San Francisco, California. Mapping Inequality, public domain image.\" />\n",
    "<figcaption aria-hidden=\"true\">Redlining map of San Francisco, California. Mapping Inequality, public domain image </figcaption>\n",
    "</figure>\n",
    "\n",
    "### Site Description:\n",
    "\n",
    "San Francisco is a city in the Bay Area of California. It is located on the indigenous territories of the [Ohlone, Muwekma, and Ramaytush nations](https://native-land.ca/). The present-day [Muwekma Ohlone Tribe](https://www.muwekma.org/) includes all known surviving American Indian lineages native to the Bay Area.\n",
    "\n",
    "Like many cities in the United States, San Francisco was subject to redlining by the federal government. A part of the federal government called the Home Owners’ Loan Corporation (HOLC) created Residential Security Maps between 1935 and 1940. These maps are also known as redlining maps and graded neighborhoods as an A, B, C, or D. Neighborhoods with an A grade, or “Best”, were colored green. B neighborhoods were “Still Desirable” and blue, C neighborhoods were “Definitely Declining” and yellow, and D neighborhoods were “Hazardous” and red. The redlining maps also included area descriptions for the neighborhoods, which included house and resident details, history of sales and rentals, descriptions of terrain, and favorable and detrimental influences. These area descriptions also included a trend of desirability. Mortgage companies saw neighborhoods with lower grades as riskier investments and were more likely to invest in higher grade neighborhoods. San Francisco’s Residential Security map was created in 1937.\n",
    "\n",
    "In San Francisco’s pre-World War II real estate field, someone of Mexican, Central American, or South American heritage was considered white as long as they didn’t also have Native heritage. Additionally, Italian and Irish residents were considered white as well. Unfortunately, Asian residents were heavily discriminated against. This extended to San Francisco’s African American population as well.\n",
    "\n",
    "The area descriptions of San Francisco’s redlining map focus on:\n",
    "* the cost of buying or renting,\n",
    "* physical features of the land,\n",
    "* how the area is being maintained,\n",
    "* the occupations of residents,\n",
    "* the age and type of housing, and\n",
    "* the types of businesses and community amenities present.\n",
    " \n",
    "For example, in same A and B graded areas, it’s stated that there’s [“no threat of undesirable racial influences”](https://dsl.richmond.edu/panorama/redlining/map/CA/SanFrancisco/area_descriptions/B1#loc=13/37.7584/-122.4368) or [“no threat of racial concentration”](https://dsl.richmond.edu/panorama/redlining/map/CA/SanFrancisco/area_descriptions/B3#loc=13/37.7584/-122.4368). Conversely, in area [C4](https://dsl.richmond.edu/panorama/redlining/map/CA/SanFrancisco/area_descriptions/C4#loc=13/37.7497/-122.4373), it’s noted that “There are no racial concentrations in the area but there is a distinct threat of infiltration of Negroes and Japs from areas D-1 and D-3”. Area [B6](https://dsl.richmond.edu/panorama/redlining/map/CA/SanFrancisco/area_descriptions/B6#loc=13/37.7584/-122.4368), demonstrates the perceived importance of ownership, as it was “zoned second-residential but is 95% owner-occupied, which protects it from the infiltration of lower-class properties”. \n",
    "\n",
    "Citation:\n",
    "Nelson, R. K., Winling, L, et al. (2023). Mapping Inequality: Redlining in New Deal America. Digital Scholarship Lab. https://dsl.richmond.edu/panorama/redlining."
   ]
  },
  {
   "cell_type": "markdown",
   "metadata": {},
   "source": [
    "### Data Description:\n",
    "San Francisco's redlining data comes from the University of Richmond's third version of *Mapping Inequality: Redlining in New Deal America*. The scans of the redlining maps and area descriptions in the project are public domain. Specifically, the San Francisco map and area descriptions are from the [City Survey Files, 1935-1940](https://catalog.archives.gov/id/720357) at the National Archives. \n",
    "\n",
    "The multispectral data is accessed via earthaccess, [\"a python library to search for, and download or stream NASA Earth science data with just a few lines of code\"](https://earthaccess.readthedocs.io/en/latest/). Additionally, the [NASA Worldview Site](https://worldview.earthdata.nasa.gov/) was used to identify June 20, 2022, a clear day in San Francisco so that the multispectral data wouldn't have a lot of clouds. The reflectance data comes from the [Harmonized Landsat and Sentinel-2 (HLS) project](https://lpdaac.usgs.gov/documents/1698/HLS_User_Guide_V2.pdf?_gl=1*14eqerw*_ga*MTE0MDUzOTM2Ni4xNzMwOTQ2MzIy*_ga_PVF13VX9Z5*MTczMjc3NDE0MS42LjEuMTczMjc3NDYyNy4wLjAuMA..&_ga=2.231499167.1626254006.1732773970-1140539366.1730946322) from the \"Operational Land Imager (OLI) and Multi-Spectral Instrument (MSI) onboard the Landsat-8 and Sentinel-2 remote sensing satellites respectively. The combined measurement enables global land observation every 2-3 days at moderate (30 m) spatial resolution.\""
   ]
  },
  {
   "cell_type": "markdown",
   "metadata": {},
   "source": [
    "### Methods Description:\n",
    "\n",
    "After importing necessary packages and libraries and setting up a data directory, the redlining data for San Francisco, CA was downloaded. Then, two functions were defined. The first function processes the raster multispectral data file by opening and cropping the raster file. The second function applies the cloud mask to the multispectral data. Next, I used earthaccess to get the multispectral data for San Francisco, CA from June 20, 2022. After that, a regular expression was used to create a DataFrame with the raster multispectral metadata. For loops ran the newly created raster DataFrames through the two processing and cloud mask functions, yielding a dictionary with DataArrays of the blue, red, green, and NIR Narrow multispectral data. These band DataArrays were plotted to check for accuracy and then the red and NIR Narrow bands were used to calculate the Normalized Difference Vegetation Index (NDVI) DataArray. The NDVI DataArray was plotted with the San Francisco redlining data. Zonal Stats of NDVI were calculated for San Francisco's different neighboorhoods and a tree model was created with aforementioned zonal stats. "
   ]
  },
  {
   "cell_type": "markdown",
   "metadata": {},
   "source": [
    "### Plot 1:"
   ]
  },
  {
   "cell_type": "code",
   "execution_count": 3,
   "metadata": {},
   "outputs": [
    {
     "data": {
      "text/html": [
       "\n",
       "        <iframe\n",
       "            width=\"700\"\n",
       "            height=\"600\"\n",
       "            src=\"sf-ndvi-redlining-plot.png\"\n",
       "            frameborder=\"0\"\n",
       "            allowfullscreen\n",
       "            \n",
       "        ></iframe>\n",
       "        "
      ],
      "text/plain": [
       "<IPython.lib.display.IFrame at 0x28fd4aadb10>"
      ]
     },
     "execution_count": 3,
     "metadata": {},
     "output_type": "execute_result"
    }
   ],
   "source": [
    "from IPython.display import IFrame\n",
    "IFrame(src='sf-ndvi-redlining-plot.png', width=700, height=600)"
   ]
  },
  {
   "cell_type": "markdown",
   "metadata": {},
   "source": [
    "**This plot shows a map of San Francisco, California showing the boundaries of the redlining zones from 1937 and the Normalized Difference Vegetation Index (NDVI) calculated from multispectral raster data captured via satellite on June 20, 2022.**\n",
    "*A higher NDVI indicates healthier vegetation. The areas of high NDVI that stand out on the plot are in the northwest parts of San Francisco and are San Francisco's Golden Gate Park and Presidio (another large park). The high NDVI areas in the southwest corner of the plot are around Lake Merced and are three different Golf Courses. It is also important to note that the northwest corner of the plot, top edge of the plot, and east edge of the plot, are largely showing a very low NDVI because those areas are water. On land, the lowest levels of NDVI can be observed, generally, in the east side of San Francisco where there aren't any redlining boundaries. According to University of Richmond's context description of San Francisco's redlining, the \"areas that were truly beyond the pale for residential mortgages were the areas that the HOLC did not survey at all, areas that might be described as \"no-lined.\" It could be interpreted then, that the \"no-lined\" areas of San Francisco have the lowest NDVI since they were not invested in by mortgage companies so it could have been more difficult to maintain those areas and keep healthy vegetation alive.*"
   ]
  },
  {
   "cell_type": "markdown",
   "metadata": {},
   "source": [
    "### Plot 2:"
   ]
  },
  {
   "cell_type": "code",
   "execution_count": 5,
   "metadata": {},
   "outputs": [
    {
     "data": {
      "text/html": [
       "\n",
       "        <iframe\n",
       "            width=\"1300\"\n",
       "            height=\"600\"\n",
       "            src=\"file:///C:/Users/riede/Documents/Fall%202024%20Earth%20Data%20Analytics%20Class/Redlining%20Coding%20Challenge/notebooks/sf_redlining_ndvi_interactive_plot.html\"\n",
       "            frameborder=\"0\"\n",
       "            allowfullscreen\n",
       "            \n",
       "        ></iframe>\n",
       "        "
      ],
      "text/plain": [
       "<IPython.lib.display.IFrame at 0x28fd49a8250>"
      ]
     },
     "execution_count": 5,
     "metadata": {},
     "output_type": "execute_result"
    }
   ],
   "source": [
    "IFrame(src='file:///C:/Users/riede/Documents/'\n",
    "       'Fall%202024%20Earth%20Data%20Analytics%20Class/'\n",
    "       'Redlining%20Coding%20Challenge/'\n",
    "       'notebooks/sf_redlining_ndvi_interactive_plot.html',\n",
    "       width=1300, height=600)"
   ]
  },
  {
   "cell_type": "markdown",
   "metadata": {},
   "source": [
    "**This plot includes two subplots. **\n",
    "*PLOT DESCRIPTION HERE*"
   ]
  }
 ],
 "metadata": {
  "kernelspec": {
   "display_name": "earth-analytics-python",
   "language": "python",
   "name": "python3"
  },
  "language_info": {
   "codemirror_mode": {
    "name": "ipython",
    "version": 3
   },
   "file_extension": ".py",
   "mimetype": "text/x-python",
   "name": "python",
   "nbconvert_exporter": "python",
   "pygments_lexer": "ipython3",
   "version": "3.11.10"
  }
 },
 "nbformat": 4,
 "nbformat_minor": 2
}
